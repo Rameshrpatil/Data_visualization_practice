{
 "cells": [
  {
   "cell_type": "code",
   "execution_count": 1,
   "id": "00e9ca43",
   "metadata": {},
   "outputs": [],
   "source": [
    "import cv2"
   ]
  },
  {
   "cell_type": "code",
   "execution_count": 2,
   "id": "6061c66c",
   "metadata": {},
   "outputs": [],
   "source": [
    "img =cv2.imread(\"D:/zzz/test.jpg\")"
   ]
  },
  {
   "cell_type": "code",
   "execution_count": 3,
   "id": "b45f2bce",
   "metadata": {},
   "outputs": [],
   "source": [
    "cv2.imshow('Image',img)\n",
    "cv2.waitKey(0)\n",
    "cv2.destroyAllWindows()"
   ]
  },
  {
   "cell_type": "code",
   "execution_count": 4,
   "id": "f07b98a0",
   "metadata": {},
   "outputs": [
    {
     "name": "stdout",
     "output_type": "stream",
     "text": [
      "[[[ 71 112 121]\n",
      "  [ 70 111 120]\n",
      "  [ 63 104 113]\n",
      "  ...\n",
      "  [ 51  78  75]\n",
      "  [ 53  80  77]\n",
      "  [ 56  83  80]]\n",
      "\n",
      " [[ 69 110 119]\n",
      "  [ 70 111 120]\n",
      "  [ 76 117 126]\n",
      "  ...\n",
      "  [ 61  88  85]\n",
      "  [ 59  86  83]\n",
      "  [ 55  82  79]]\n",
      "\n",
      " [[ 66 107 116]\n",
      "  [ 69 110 119]\n",
      "  [ 79 120 129]\n",
      "  ...\n",
      "  [ 45  72  68]\n",
      "  [ 53  80  76]\n",
      "  [ 55  82  78]]\n",
      "\n",
      " ...\n",
      "\n",
      " [[ 16  42  66]\n",
      "  [ 22  49  70]\n",
      "  [ 21  48  68]\n",
      "  ...\n",
      "  [ 65 101 101]\n",
      "  [ 69 107 107]\n",
      "  [ 71 109 109]]\n",
      "\n",
      " [[ 14  40  64]\n",
      "  [ 30  57  78]\n",
      "  [ 44  71  91]\n",
      "  ...\n",
      "  [ 64 101  99]\n",
      "  [ 75 113 113]\n",
      "  [ 79 117 117]]\n",
      "\n",
      " [[ 20  46  70]\n",
      "  [ 38  65  86]\n",
      "  [ 68  95 115]\n",
      "  ...\n",
      "  [ 58  95  93]\n",
      "  [ 63 101 101]\n",
      "  [ 60  98  98]]]\n"
     ]
    }
   ],
   "source": [
    "print(img)"
   ]
  },
  {
   "cell_type": "code",
   "execution_count": 5,
   "id": "df9f9c37",
   "metadata": {},
   "outputs": [
    {
     "name": "stdout",
     "output_type": "stream",
     "text": [
      "3\n",
      "(512, 512, 3)\n"
     ]
    }
   ],
   "source": [
    "print(img.ndim)\n",
    "print(img.shape)"
   ]
  },
  {
   "cell_type": "code",
   "execution_count": 6,
   "id": "8d8d2989",
   "metadata": {},
   "outputs": [
    {
     "name": "stdout",
     "output_type": "stream",
     "text": [
      "<class 'numpy.ndarray'>\n"
     ]
    }
   ],
   "source": [
    "print(type(img))"
   ]
  },
  {
   "cell_type": "code",
   "execution_count": 12,
   "id": "32273cc4",
   "metadata": {},
   "outputs": [],
   "source": [
    "import numpy as np\n",
    "new_img=img[250:450,150:450]\n",
    "cv2.imshow(\"img2\",new_img)\n",
    "cv2.waitKey(0)\n",
    "cv2.destroyAllWindows()"
   ]
  },
  {
   "cell_type": "code",
   "execution_count": 15,
   "id": "1acd7591",
   "metadata": {},
   "outputs": [],
   "source": [
    "img2 =cv2.imread(\"D:/Python programming/numpy & pandas/f16_nobg_1jet.jpg\")"
   ]
  },
  {
   "cell_type": "code",
   "execution_count": 16,
   "id": "5320d169",
   "metadata": {},
   "outputs": [
    {
     "name": "stdout",
     "output_type": "stream",
     "text": [
      "[[[255 255 255]\n",
      "  [255 255 255]\n",
      "  [255 255 255]\n",
      "  ...\n",
      "  [255 255 255]\n",
      "  [255 255 255]\n",
      "  [255 255 255]]\n",
      "\n",
      " [[255 255 255]\n",
      "  [255 255 255]\n",
      "  [255 255 255]\n",
      "  ...\n",
      "  [255 255 255]\n",
      "  [255 255 255]\n",
      "  [255 255 255]]\n",
      "\n",
      " [[255 255 255]\n",
      "  [255 255 255]\n",
      "  [255 255 255]\n",
      "  ...\n",
      "  [255 255 255]\n",
      "  [255 255 255]\n",
      "  [255 255 255]]\n",
      "\n",
      " ...\n",
      "\n",
      " [[255 255 255]\n",
      "  [255 255 255]\n",
      "  [255 255 255]\n",
      "  ...\n",
      "  [255 255 255]\n",
      "  [255 255 255]\n",
      "  [255 255 255]]\n",
      "\n",
      " [[255 255 255]\n",
      "  [255 255 255]\n",
      "  [255 255 255]\n",
      "  ...\n",
      "  [255 255 255]\n",
      "  [255 255 255]\n",
      "  [255 255 255]]\n",
      "\n",
      " [[255 255 255]\n",
      "  [255 255 255]\n",
      "  [255 255 255]\n",
      "  ...\n",
      "  [255 255 255]\n",
      "  [255 255 255]\n",
      "  [255 255 255]]]\n"
     ]
    }
   ],
   "source": [
    "print(img2)"
   ]
  },
  {
   "cell_type": "code",
   "execution_count": null,
   "id": "4e593735",
   "metadata": {},
   "outputs": [],
   "source": []
  },
  {
   "cell_type": "code",
   "execution_count": null,
   "id": "e8235e2c",
   "metadata": {},
   "outputs": [],
   "source": []
  },
  {
   "cell_type": "code",
   "execution_count": null,
   "id": "e7263243",
   "metadata": {},
   "outputs": [],
   "source": []
  }
 ],
 "metadata": {
  "kernelspec": {
   "display_name": "Python 3 (ipykernel)",
   "language": "python",
   "name": "python3"
  },
  "language_info": {
   "codemirror_mode": {
    "name": "ipython",
    "version": 3
   },
   "file_extension": ".py",
   "mimetype": "text/x-python",
   "name": "python",
   "nbconvert_exporter": "python",
   "pygments_lexer": "ipython3",
   "version": "3.11.5"
  }
 },
 "nbformat": 4,
 "nbformat_minor": 5
}
